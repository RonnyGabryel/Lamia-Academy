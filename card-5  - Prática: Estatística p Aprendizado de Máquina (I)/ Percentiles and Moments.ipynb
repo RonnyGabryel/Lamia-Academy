{
 "cells": [
  {
   "cell_type": "code",
   "execution_count": 1,
   "id": "35cb7908-c05c-4ad6-b0bc-041535f11658",
   "metadata": {},
   "outputs": [],
   "source": [
    "import numpy as np\n",
    "import matplotlib.pyplot as plt"
   ]
  },
  {
   "cell_type": "code",
   "execution_count": 2,
   "id": "d2ed51b2-30d4-4e79-a18f-8866b4dc403c",
   "metadata": {},
   "outputs": [
    {
     "data": {
      "image/png": "[encoded data removed]",
      "text/plain": [
       "<Figure size 640x480 with 1 Axes>"
      ]
     },
     "metadata": {},
     "output_type": "display_data"
    }
   ],
   "source": [
    "# Geração dos dados e visualização\n",
    "vals = np.random.normal(0, 0.5, 10000)\n",
    "plt.hist(vals, 50)\n",
    "plt.show()"
   ]
  },
  {
   "cell_type": "code",
   "execution_count": 3,
   "id": "bedbbf2e-188d-4b75-881c-5f89627b6d51",
   "metadata": {},
   "outputs": [
    {
     "name": "stdout",
     "output_type": "stream",
     "text": [
      "Percentil 50%: -0.006285391333310405\n",
      "Percentil 90%: 0.6364695644524965\n",
      "Percentil 20%: -0.4250615929641456\n",
      "Percentil 99%: 1.1578968050807075\n"
     ]
    }
   ],
   "source": [
    "# Análise de percentis\n",
    "print(\"Percentil 50%:\", np.percentile(vals, 50))\n",
    "print(\"Percentil 90%:\", np.percentile(vals, 90))\n",
    "print(\"Percentil 20%:\", np.percentile(vals, 20))\n",
    "print(\"Percentil 99%:\", np.percentile(vals, 99))"
   ]
  },
  {
   "cell_type": "code",
   "execution_count": 4,
   "id": "913c22fb-ef7f-4161-b14d-9f40f19f2fde",
   "metadata": {},
   "outputs": [
    {
     "name": "stdout",
     "output_type": "stream",
     "text": [
      "\n",
      "#first moment\n",
      "Média: -0.0060014366226285275\n"
     ]
    }
   ],
   "source": [
    "# Primeiro momento\n",
    "print(\"\\n#first moment\")\n",
    "print(\"Média:\", np.mean(vals))"
   ]
  },
  {
   "cell_type": "code",
   "execution_count": 5,
   "id": "14c18690-ce39-435a-8ada-6dd31386ad61",
   "metadata": {},
   "outputs": [
    {
     "name": "stdout",
     "output_type": "stream",
     "text": [
      "\n",
      "#second moment\n",
      "Variância: 0.25424657476685864\n"
     ]
    }
   ],
   "source": [
    "# Segundo momento  \n",
    "print(\"\\n#second moment\")\n",
    "print(\"Variância:\", np.var(vals))"
   ]
  },
  {
   "cell_type": "code",
   "execution_count": 6,
   "id": "8cbb2ffa-845d-4e13-b936-3d3074359517",
   "metadata": {},
   "outputs": [
    {
     "name": "stdout",
     "output_type": "stream",
     "text": [
      "\n",
      "#third moment\n",
      "Assimetria: -0.03680966434303256\n"
     ]
    }
   ],
   "source": [
    "# Terceiro momento\n",
    "import scipy.stats as sp\n",
    "print(\"\\n#third moment\")\n",
    "print(\"Assimetria:\", sp.skew(vals))"
   ]
  },
  {
   "cell_type": "code",
   "execution_count": 7,
   "id": "ba57f886-12af-43af-9408-9451ff92d02f",
   "metadata": {},
   "outputs": [
    {
     "name": "stdout",
     "output_type": "stream",
     "text": [
      "\n",
      "#fourth moment\n",
      "Curtose: 0.0462234993255759\n"
     ]
    }
   ],
   "source": [
    "# Quarto momento\n",
    "print(\"\\n#fourth moment\")\n",
    "print(\"Curtose:\", sp.kurtosis(vals))"
   ]
  }
 ],
 "metadata": {
  "kernelspec": {
   "display_name": "Python (conda-base)",
   "language": "python",
   "name": "conda-base"
  },
  "language_info": {
   "codemirror_mode": {
    "name": "ipython",
    "version": 3
   },
   "file_extension": ".py",
   "mimetype": "text/x-python",
   "name": "python",
   "nbconvert_exporter": "python",
   "pygments_lexer": "ipython3",
   "version": "3.13.2"
  }
 },
 "nbformat": 4,
 "nbformat_minor": 5
}
