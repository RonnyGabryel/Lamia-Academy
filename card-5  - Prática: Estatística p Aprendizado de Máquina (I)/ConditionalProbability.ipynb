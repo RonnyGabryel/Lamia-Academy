{
 "cells": [
  {
   "cell_type": "code",
   "execution_count": 3,
   "id": "5fdc8aaf-1423-47fa-801c-eb512c208ea0",
   "metadata": {},
   "outputs": [],
   "source": [
    "from numpy import random\n",
    "random.seed(42)"
   ]
  },
  {
   "cell_type": "code",
   "execution_count": 4,
   "id": "dcfa5024-1e46-4273-8a79-2da4d9cd4b00",
   "metadata": {},
   "outputs": [],
   "source": [
    "# Contadores para diferentes regiões e compras online\n",
    "totals = {'Norte': 0, 'Sul': 0, 'Sudeste': 0, 'Nordeste': 0, 'Centro': 0}\n",
    "purchases = {'Norte': 0, 'Sul': 0, 'Sudeste': 0, 'Nordeste': 0, 'Centro': 0}\n",
    "totalPurchases = 0"
   ]
  },
  {
   "cell_type": "code",
   "execution_count": 5,
   "id": "71cf5fdf-d581-48a8-aff3-c607f9cc0edb",
   "metadata": {},
   "outputs": [],
   "source": [
    "# Simulação para 80.000 pessoas\n",
    "for _ in range(80000):\n",
    "    regiao = random.choice(['Norte', 'Sul', 'Sudeste', 'Nordeste', 'Centro'])\n",
    "    \n",
    "    # Probabilidade de compra varia por região (dependência)\n",
    "    if regiao == 'Norte':\n",
    "        purchaseProbability = 0.25\n",
    "    elif regiao == 'Sul':\n",
    "        purchaseProbability = 0.35\n",
    "    elif regiao == 'Sudeste':\n",
    "        purchaseProbability = 0.55\n",
    "    elif regiao == 'Nordeste':\n",
    "        purchaseProbability = 0.30\n",
    "    else:  # Centro\n",
    "        purchaseProbability = 0.40\n",
    "    \n",
    "    totals[regiao] += 1\n",
    "    \n",
    "    if random.random() < purchaseProbability:\n",
    "        totalPurchases += 1\n",
    "        purchases[regiao] += 1"
   ]
  },
  {
   "cell_type": "code",
   "execution_count": 6,
   "id": "74ba903a-cfea-4c8b-b23a-2dc96b604023",
   "metadata": {},
   "outputs": [
    {
     "data": {
      "text/plain": [
       "{'Norte': 16058,\n",
       " 'Sul': 15987,\n",
       " 'Sudeste': 15939,\n",
       " 'Nordeste': 16071,\n",
       " 'Centro': 15945}"
      ]
     },
     "execution_count": 6,
     "metadata": {},
     "output_type": "execute_result"
    }
   ],
   "source": [
    "totals"
   ]
  },
  {
   "cell_type": "code",
   "execution_count": 7,
   "id": "780804e7-acc4-49c2-9032-6e2051863505",
   "metadata": {},
   "outputs": [
    {
     "data": {
      "text/plain": [
       "{'Norte': 4107, 'Sul': 5552, 'Sudeste': 8763, 'Nordeste': 4887, 'Centro': 6271}"
      ]
     },
     "execution_count": 7,
     "metadata": {},
     "output_type": "execute_result"
    }
   ],
   "source": [
    "purchases"
   ]
  },
  {
   "cell_type": "code",
   "execution_count": 8,
   "id": "3abfdc77-6602-4052-802c-913bd7f0c123",
   "metadata": {},
   "outputs": [
    {
     "data": {
      "text/plain": [
       "29580"
      ]
     },
     "execution_count": 8,
     "metadata": {},
     "output_type": "execute_result"
    }
   ],
   "source": [
    "totalPurchases"
   ]
  },
  {
   "cell_type": "code",
   "execution_count": 9,
   "id": "6545b88e-12f4-4f9a-987c-2322ff137c58",
   "metadata": {},
   "outputs": [
    {
     "name": "stdout",
     "output_type": "stream",
     "text": [
      "P(Purchase | Sudeste): 0.5497835497835498\n"
     ]
    }
   ],
   "source": [
    "# Probabilidade condicional P(E|F) onde: E = \"fazer uma compra\" F = \"ser do Sudeste\"\n",
    "PEF = float(purchases['Sudeste']) / float(totals['Sudeste'])\n",
    "print(\"P(Purchase | Sudeste):\", PEF)"
   ]
  },
  {
   "cell_type": "code",
   "execution_count": 10,
   "id": "2f31aa34-7d76-4f16-9126-a15ee411992c",
   "metadata": {},
   "outputs": [
    {
     "name": "stdout",
     "output_type": "stream",
     "text": [
      "P(Sudeste): 0.1992375\n"
     ]
    }
   ],
   "source": [
    "# Probabilidade de ser do Sudeste P(F)\n",
    "PF = float(totals['Sudeste']) / 80000.0\n",
    "print(\"P(Sudeste):\", PF)"
   ]
  },
  {
   "cell_type": "code",
   "execution_count": 11,
   "id": "7c17293d-4289-4e6c-a84d-f9df4726ea17",
   "metadata": {},
   "outputs": [
    {
     "name": "stdout",
     "output_type": "stream",
     "text": [
      "P(Purchase): 0.36975\n"
     ]
    }
   ],
   "source": [
    "# Probabilidade geral de fazer uma compra P(E)\n",
    "PE = float(totalPurchases) / 80000.0\n",
    "print(\"P(Purchase):\", PE)"
   ]
  },
  {
   "cell_type": "code",
   "execution_count": 12,
   "id": "c39142d0-6786-413a-bc52-8759b2684ca8",
   "metadata": {},
   "outputs": [
    {
     "name": "stdout",
     "output_type": "stream",
     "text": [
      "P(Sudeste, Purchase): 0.1095375\n",
      "P(Sudeste) * P(Purchase): 0.07366806562500001\n"
     ]
    }
   ],
   "source": [
    "# Como os valores não são iguais, isso confirma que região e compra estão correlacionadas\n",
    "print(\"P(Sudeste, Purchase):\", float(purchases['Sudeste']) / 80000.0)\n",
    "print(\"P(Sudeste) * P(Purchase):\", PE * PF)"
   ]
  },
  {
   "cell_type": "code",
   "execution_count": 13,
   "id": "54b799d8-9069-4c15-ade1-2420ca940bd8",
   "metadata": {},
   "outputs": [
    {
     "name": "stdout",
     "output_type": "stream",
     "text": [
      "0.5497835497835497\n"
     ]
    }
   ],
   "source": [
    "print((purchases['Sudeste'] / 80000.0) / PF)"
   ]
  },
  {
   "cell_type": "code",
   "execution_count": null,
   "id": "ff68e1b3-91b8-42bb-a015-0433b516b0dd",
   "metadata": {},
   "outputs": [],
   "source": [
    "# Modificando para tornar independente\n",
    "# Suponha que a taxa de compra seja a mesma para todas as regiões\n",
    "taxa_compra_global = totalPurchases / 80000.0  # P(E) fixo para todas as regiões"
   ]
  }
 ],
 "metadata": {
  "kernelspec": {
   "display_name": "Python (conda-base)",
   "language": "python",
   "name": "conda-base"
  },
  "language_info": {
   "codemirror_mode": {
    "name": "ipython",
    "version": 3
   },
   "file_extension": ".py",
   "mimetype": "text/x-python",
   "name": "python",
   "nbconvert_exporter": "python",
   "pygments_lexer": "ipython3",
   "version": "3.13.2"
  }
 },
 "nbformat": 4,
 "nbformat_minor": 5
}
