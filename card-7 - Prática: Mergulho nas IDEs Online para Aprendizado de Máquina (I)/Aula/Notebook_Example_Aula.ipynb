{
 "cells": [
  {
   "cell_type": "markdown",
   "id": "3b17ca22-33c8-423f-a46f-2d1f6a4e9892",
   "metadata": {},
   "source": [
    "# Jupyter Notebook Example\n",
    "## Subtitle\n",
    "This is an example notebok\n",
    "\n",
    "1. This is item 1\n",
    "2. Next is 2\n",
    "3. and then theree"
   ]
  },
  {
   "cell_type": "code",
   "execution_count": 6,
   "id": "8c56f1b9-ef13-4248-9c49-9ad442c8a1e4",
   "metadata": {},
   "outputs": [
    {
     "name": "stdout",
     "output_type": "stream",
     "text": [
      "Hellow viewers\n"
     ]
    }
   ],
   "source": [
    "print('Hellow viewers')"
   ]
  },
  {
   "cell_type": "code",
   "execution_count": 7,
   "id": "55267bd2-381a-41d7-b870-633bb5a92795",
   "metadata": {},
   "outputs": [
    {
     "ename": "ModuleNotFoundError",
     "evalue": "No module named 'matplotlib'",
     "output_type": "error",
     "traceback": [
      "\u001b[31m---------------------------------------------------------------------------\u001b[39m",
      "\u001b[31mModuleNotFoundError\u001b[39m                       Traceback (most recent call last)",
      "\u001b[36mCell\u001b[39m\u001b[36m \u001b[39m\u001b[32mIn[7]\u001b[39m\u001b[32m, line 2\u001b[39m\n\u001b[32m      1\u001b[39m \u001b[38;5;28;01mimport\u001b[39;00m\u001b[38;5;250m \u001b[39m\u001b[34;01mnumpy\u001b[39;00m\u001b[38;5;250m \u001b[39m\u001b[38;5;28;01mas\u001b[39;00m\u001b[38;5;250m \u001b[39m\u001b[34;01mnp\u001b[39;00m\n\u001b[32m----> \u001b[39m\u001b[32m2\u001b[39m \u001b[38;5;28;01mimport\u001b[39;00m\u001b[38;5;250m \u001b[39m\u001b[34;01mmatplotlib\u001b[39;00m\u001b[34;01m.\u001b[39;00m\u001b[34;01mpylab\u001b[39;00m\u001b[38;5;250m \u001b[39m\u001b[38;5;28;01mas\u001b[39;00m\u001b[38;5;250m \u001b[39m\u001b[34;01mplt\u001b[39;00m\n\u001b[32m      3\u001b[39m \u001b[38;5;28;01mimport\u001b[39;00m\u001b[38;5;250m \u001b[39m\u001b[34;01mmatplotlib\u001b[39;00m\n",
      "\u001b[31mModuleNotFoundError\u001b[39m: No module named 'matplotlib'"
     ]
    }
   ],
   "source": [
    "import numpy as np\n",
    "import matplotlib.pylab as plt\n",
    "import matplotlib"
   ]
  },
  {
   "cell_type": "code",
   "execution_count": 8,
   "id": "87d6da76-07a6-49f8-a189-60e48c7e961a",
   "metadata": {},
   "outputs": [
    {
     "ename": "NameError",
     "evalue": "name 'plt' is not defined",
     "output_type": "error",
     "traceback": [
      "\u001b[31m---------------------------------------------------------------------------\u001b[39m",
      "\u001b[31mNameError\u001b[39m                                 Traceback (most recent call last)",
      "\u001b[36mCell\u001b[39m\u001b[36m \u001b[39m\u001b[32mIn[8]\u001b[39m\u001b[32m, line 9\u001b[39m\n\u001b[32m      6\u001b[39m s = \u001b[32m1\u001b[39m + np.sin(\u001b[32m2\u001b[39m * np.pi*t)\n\u001b[32m      8\u001b[39m \u001b[38;5;66;03m# criação do gráfico\u001b[39;00m\n\u001b[32m----> \u001b[39m\u001b[32m9\u001b[39m fig, ax = \u001b[43mplt\u001b[49m.subplots()\n\u001b[32m     10\u001b[39m ax.plot(t, s)\n\u001b[32m     12\u001b[39m ax.set(xlabel=\u001b[33m'\u001b[39m\u001b[33mtime (s)\u001b[39m\u001b[33m'\u001b[39m, ylabel = \u001b[33m'\u001b[39m\u001b[33mvoltage (mV)\u001b[39m\u001b[33m'\u001b[39m,\n\u001b[32m     13\u001b[39m         title=\u001b[33m'\u001b[39m\u001b[33mAbout as simple as it gets, folks\u001b[39m\u001b[33m'\u001b[39m)\n",
      "\u001b[31mNameError\u001b[39m: name 'plt' is not defined"
     ]
    }
   ],
   "source": [
    "# Data for plotting\n",
    "\n",
    "# Lista de números de 0 até 1.99 com passo de 0.01 entre cada valor\n",
    "t = np.arange(0.0, 2.0, 0.01)\n",
    "# calculando o seno da circunferencia considerando que cada valor t seria o raio\n",
    "s = 1 + np.sin(2 * np.pi*t)\n",
    "\n",
    "# criação do gráfico\n",
    "fig, ax = plt.subplots()\n",
    "ax.plot(t, s)\n",
    "\n",
    "ax.set(xlabel='time (s)', ylabel = 'voltage (mV)',\n",
    "        title='About as simple as it gets, folks')\n",
    "ax.grid()"
   ]
  },
  {
   "cell_type": "markdown",
   "id": "a6e2816f-b53c-41a7-a18b-e3ffd5c9367c",
   "metadata": {},
   "source": [
    "# Discussion of plot\n",
    "This plot above is amazing. We've learned 50 things:\n",
    "\n",
    "1. thing 1\n",
    "2. thing 2"
   ]
  },
  {
   "cell_type": "code",
   "execution_count": null,
   "id": "136cdd6d-9232-4444-8b57-8da18d5afd9d",
   "metadata": {},
   "outputs": [],
   "source": []
  }
 ],
 "metadata": {
  "kernelspec": {
   "display_name": "Python 3 (ipykernel)",
   "language": "python",
   "name": "python3"
  },
  "language_info": {
   "codemirror_mode": {
    "name": "ipython",
    "version": 3
   },
   "file_extension": ".py",
   "mimetype": "text/x-python",
   "name": "python",
   "nbconvert_exporter": "python",
   "pygments_lexer": "ipython3",
   "version": "3.13.7"
  }
 },
 "nbformat": 4,
 "nbformat_minor": 5
}
