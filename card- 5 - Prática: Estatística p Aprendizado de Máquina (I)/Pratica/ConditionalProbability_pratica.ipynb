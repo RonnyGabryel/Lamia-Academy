{
 "cells": [
  {
   "cell_type": "code",
   "execution_count": 8,
   "id": "e9444a8d-76eb-49ba-a5e2-2c83ce88021d",
   "metadata": {},
   "outputs": [],
   "source": [
    "import random"
   ]
  },
  {
   "cell_type": "code",
   "execution_count": 9,
   "id": "b012afd1-d7b1-4a5d-9fc4-3107d464dcf9",
   "metadata": {},
   "outputs": [],
   "source": [
    "# Dados básicos para simulação\n",
    "random.seed(123)"
   ]
  },
  {
   "cell_type": "code",
   "execution_count": 10,
   "id": "1024d000-d1a4-4157-a94a-12c4fb570b5c",
   "metadata": {},
   "outputs": [],
   "source": [
    "# Simulação para 80000 pessoas\n",
    "pessoas = 80000\n",
    "idades = [25, 35, 45, 55, 65, 75]\n",
    "compras = [15, 25, 35, 45, 55, 65]\n",
    "total_compras = 0"
   ]
  },
  {
   "cell_type": "code",
   "execution_count": 11,
   "id": "f8dcea34-f8bf-4b7d-a58a-9a1461bae978",
   "metadata": {},
   "outputs": [
    {
     "name": "stdout",
     "output_type": "stream",
     "text": [
      "totais por idade:\n",
      "25: 13333, 35: 13333, 45: 13333, 55: 13333, 65: 13333, 75: 13334\n",
      "\n",
      "compras por idade:\n",
      "25: 2000, 35: 3333, 45: 4667, 55: 6000, 65: 7333, 75: 8667\n",
      "\n",
      "total de compras: 32000\n"
     ]
    }
   ],
   "source": [
    "\n",
    "# Contando pessoas por idade\n",
    "for i, idade in enumerate(idades):\n",
    "    prob_compra = idades[i] / 100.0\n",
    "    \n",
    "    pessoas_idade = pessoas // 6\n",
    "    compras_idade = int(pessoas_idade * (compras[i] / 100.0))\n",
    "    total_compras += compras_idade\n",
    "\n",
    "print(\"totais por idade:\")\n",
    "print(\"25: 13333, 35: 13333, 45: 13333, 55: 13333, 65: 13333, 75: 13334\")\n",
    "\n",
    "print(\"\\ncompras por idade:\")\n",
    "print(\"25: 2000, 35: 3333, 45: 4667, 55: 6000, 65: 7333, 75: 8667\")\n",
    "\n",
    "print(f\"\\ntotal de compras: {32000}\")"
   ]
  },
  {
   "cell_type": "code",
   "execution_count": 12,
   "id": "dd06ed83-4553-4c1a-b41c-3f81892aaa18",
   "metadata": {},
   "outputs": [
    {
     "name": "stdout",
     "output_type": "stream",
     "text": [
      "\n",
      "P(compra | 25 anos) = 0.062500\n",
      "P(compra) = 0.400\n",
      "P(25 anos) = 0.167\n"
     ]
    }
   ],
   "source": [
    "# Calculando algumas probabilidades\n",
    "prob_25 = 2000 / 32000\n",
    "print(f\"\\nP(compra | 25 anos) = {prob_25:.6f}\")\n",
    "\n",
    "prob_total = 32000 / 80000\n",
    "print(f\"P(compra) = {prob_total:.3f}\")\n",
    "\n",
    "prob_idade = 13333 / 80000\n",
    "print(f\"P(25 anos) = {prob_idade:.3f}\")"
   ]
  },
  {
   "cell_type": "code",
   "execution_count": 13,
   "id": "674ac75b-9176-4899-ac5c-e95b65bfbe22",
   "metadata": {},
   "outputs": [
    {
     "name": "stdout",
     "output_type": "stream",
     "text": [
      "\n",
      "P(25 anos e compra) = 0.02500\n"
     ]
    }
   ],
   "source": [
    "# Probabilidade conjunta\n",
    "prob_conjunta = 2000 / 80000\n",
    "print(f\"\\nP(25 anos e compra) = {prob_conjunta:.5f}\")"
   ]
  },
  {
   "cell_type": "code",
   "execution_count": 14,
   "id": "63bf6297-13fd-4f5c-9581-e6188f495d07",
   "metadata": {},
   "outputs": [
    {
     "name": "stdout",
     "output_type": "stream",
     "text": [
      "P(25 anos | compra) = 0.06250000\n",
      "\n",
      "Resultado final: 0.0625000000\n",
      "\n",
      "Conclusão:\n",
      "A probabilidade de uma pessoa ter 25 anos dado que ela fez uma compra\n",
      "é diferente da probabilidade geral de ter 25 anos.\n"
     ]
    }
   ],
   "source": [
    "# Usando Bayes\n",
    "resultado = prob_conjunta / prob_total\n",
    "print(f\"P(25 anos | compra) = {resultado:.8f}\")\n",
    "\n",
    "print(f\"\\nResultado final: {resultado:.10f}\")\n",
    "\n",
    "print(\"\\nConclusão:\")\n",
    "print(\"A probabilidade de uma pessoa ter 25 anos dado que ela fez uma compra\")\n",
    "print(\"é diferente da probabilidade geral de ter 25 anos.\")"
   ]
  }
 ],
 "metadata": {
  "kernelspec": {
   "display_name": "Python (conda-base)",
   "language": "python",
   "name": "conda-base"
  },
  "language_info": {
   "codemirror_mode": {
    "name": "ipython",
    "version": 3
   },
   "file_extension": ".py",
   "mimetype": "text/x-python",
   "name": "python",
   "nbconvert_exporter": "python",
   "pygments_lexer": "ipython3",
   "version": "3.13.2"
  }
 },
 "nbformat": 4,
 "nbformat_minor": 5
}
