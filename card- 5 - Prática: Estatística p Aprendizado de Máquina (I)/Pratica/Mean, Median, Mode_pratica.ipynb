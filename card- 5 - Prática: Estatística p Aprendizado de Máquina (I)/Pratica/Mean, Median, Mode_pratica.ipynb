{
 "cells": [
  {
   "cell_type": "code",
   "execution_count": 1,
   "id": "058cd2a6-800d-422c-a53d-4e5eaf8ab3c1",
   "metadata": {},
   "outputs": [],
   "source": [
    "# Importa as bibliotecas numpy, pandas e matplotlib.pyplot e permite que sejam chamadas por 'np', 'pd' e 'plt'\n",
    "import numpy as np\n",
    "import pandas as pd\n",
    "import matplotlib.pyplot as plt"
   ]
  },
  {
   "cell_type": "code",
   "execution_count": 2,
   "id": "22a4da82-e4b8-4d3e-a1d8-930127ba8286",
   "metadata": {},
   "outputs": [],
   "source": [
    "# Cria um array com valores uniformemente distribuídos de mediana '120', desvio padrão '25' e com '12000' valores\n",
    "Vendas = np.random.normal(120.0, 25.0, 12000)"
   ]
  },
  {
   "cell_type": "code",
   "execution_count": 3,
   "id": "0b245af9-e9de-4c83-bd97-96fbd1f90d2b",
   "metadata": {},
   "outputs": [
    {
     "data": {
      "image/png": "[encoded data removed]",
      "text/plain": [
       "<Figure size 640x480 with 1 Axes>"
      ]
     },
     "metadata": {},
     "output_type": "display_data"
    }
   ],
   "source": [
    "# Plota o histograma do conjunto de dados Vendas com 40 classes\n",
    "plt.hist(Vendas, 40)\n",
    "plt.show()"
   ]
  },
  {
   "cell_type": "code",
   "execution_count": 4,
   "id": "47a1b304-2f40-4a50-be9b-27db8aa7b348",
   "metadata": {},
   "outputs": [
    {
     "name": "stdout",
     "output_type": "stream",
     "text": [
      "Média: 119.58140286887999\n",
      "119.87592056084448\n",
      "Mediana: 119.51697425914952\n",
      "120.01482600882254\n"
     ]
    }
   ],
   "source": [
    "# Calcula a média do conjunto de dados\n",
    "print(\"Média:\", np.mean(Vendas))\n",
    "\n",
    "# Resultado da média\n",
    "print(119.87592056084448)\n",
    "\n",
    "# Calcula a mediana do conjunto de dados\n",
    "print(\"Mediana:\", np.median(Vendas))\n",
    "\n",
    "# Resultado da mediana\n",
    "print(120.01482600882254)"
   ]
  },
  {
   "cell_type": "code",
   "execution_count": 5,
   "id": "22282622-37ac-4eff-a884-d4818912cc1a",
   "metadata": {},
   "outputs": [],
   "source": [
    "# Adiciona mais três valores ao array 'Vendas' com o intuito de mudar a distribuição e a média e mediana\n",
    "Vendas = np.append(Vendas, np.array([24358.0, 4425.0, 11253.0], dtype=float))"
   ]
  },
  {
   "cell_type": "code",
   "execution_count": 6,
   "id": "0b928e0b-95bf-4b5f-b371-51f8314ea9ba",
   "metadata": {},
   "outputs": [
    {
     "name": "stdout",
     "output_type": "stream",
     "text": [
      "A nova média é: 122.88701444860118\n",
      "A nova mediana é: 119.52497206962089\n"
     ]
    }
   ],
   "source": [
    "# Mostra os novos valores de média e mediana após incremento dos 3 valores adicionados anteriormente\n",
    "print(\"A nova média é:\", np.mean(Vendas))\n",
    "print(\"A nova mediana é:\", np.median(Vendas))\n"
   ]
  }
 ],
 "metadata": {
  "kernelspec": {
   "display_name": "Python (conda-base)",
   "language": "python",
   "name": "conda-base"
  },
  "language_info": {
   "codemirror_mode": {
    "name": "ipython",
    "version": 3
   },
   "file_extension": ".py",
   "mimetype": "text/x-python",
   "name": "python",
   "nbconvert_exporter": "python",
   "pygments_lexer": "ipython3",
   "version": "3.13.2"
  }
 },
 "nbformat": 4,
 "nbformat_minor": 5
}
