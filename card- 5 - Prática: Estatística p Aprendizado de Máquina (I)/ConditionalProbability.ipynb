{
 "cells": [
  {
   "cell_type": "code",
   "execution_count": 1,
   "id": "890784e3-9a1a-4ea2-9650-4422035a20d5",
   "metadata": {},
   "outputs": [],
   "source": [
    "from numpy import random"
   ]
  },
  {
   "cell_type": "code",
   "execution_count": 27,
   "id": "38ca7f3f-2ffd-4711-a86f-1ae94bebf0a3",
   "metadata": {},
   "outputs": [],
   "source": [
    "random.seed(0)\n",
    "\n",
    "# Dicionários para armazenar o total de pessoas e compras por idade\n",
    "totals = {20: 0, 30: 0, 40: 0, 50: 0, 60: 0, 70: 0}\n",
    "purchases = {20: 0, 30: 0, 40: 0, 50: 0, 60: 0, 70: 0}\n",
    "totalPurchases = 0\n",
    "\n",
    "# Simulação para 100.000 pessoas\n",
    "for _ in range(100000):\n",
    "    ageDecade = random.choice([20, 30, 40, 50, 60, 70])  \n",
    "    purchaseProbability = float(ageDecade) / 100.0  \n",
    "    \n",
    "    totals[ageDecade] += 1  \n",
    "    \n",
    "    if random.random() < purchaseProbability:\n",
    "        totalPurchases += 1\n",
    "        purchases[ageDecade] += 1"
   ]
  },
  {
   "cell_type": "code",
   "execution_count": 28,
   "id": "d22e0c9f-d688-4346-9033-575305e8fe21",
   "metadata": {},
   "outputs": [
    {
     "data": {
      "text/plain": [
       "{20: 16576, 30: 16619, 40: 16632, 50: 16805, 60: 16664, 70: 16704}"
      ]
     },
     "execution_count": 28,
     "metadata": {},
     "output_type": "execute_result"
    }
   ],
   "source": [
    "totals"
   ]
  },
  {
   "cell_type": "code",
   "execution_count": 29,
   "id": "2f902187-ddbd-450a-82cf-71aaee5f8b36",
   "metadata": {},
   "outputs": [
    {
     "data": {
      "text/plain": [
       "{20: 3392, 30: 4974, 40: 6670, 50: 8319, 60: 9944, 70: 11713}"
      ]
     },
     "execution_count": 29,
     "metadata": {},
     "output_type": "execute_result"
    }
   ],
   "source": [
    "purchases"
   ]
  },
  {
   "cell_type": "code",
   "execution_count": 30,
   "id": "1be8420c-7f11-4473-a2f7-24bc868c2e6c",
   "metadata": {},
   "outputs": [
    {
     "data": {
      "text/plain": [
       "45012"
      ]
     },
     "execution_count": 30,
     "metadata": {},
     "output_type": "execute_result"
    }
   ],
   "source": [
    "totalPurchases"
   ]
  },
  {
   "cell_type": "code",
   "execution_count": 31,
   "id": "44274d80-3066-4820-8e11-2629a8b4b4e8",
   "metadata": {},
   "outputs": [
    {
     "name": "stdout",
     "output_type": "stream",
     "text": [
      "P(Purchase | 30s): 0.29929598652145134\n"
     ]
    }
   ],
   "source": [
    "PEF = float(purchases[30]) / float(totals[30])\n",
    "print(\"P(Purchase | 30s):\", PEF)"
   ]
  },
  {
   "cell_type": "code",
   "execution_count": 32,
   "id": "18dc9c4c-80b0-4ff3-a752-f28f8bd094db",
   "metadata": {},
   "outputs": [
    {
     "name": "stdout",
     "output_type": "stream",
     "text": [
      "P(30s): 0.16619\n"
     ]
    }
   ],
   "source": [
    "PF = float(totals[30]) / 100000.0\n",
    "print(\"P(30s):\", PF)"
   ]
  },
  {
   "cell_type": "code",
   "execution_count": 33,
   "id": "f3d229a8-1304-4f14-8bcf-f6e1ca067067",
   "metadata": {},
   "outputs": [
    {
     "name": "stdout",
     "output_type": "stream",
     "text": [
      "P(Purchase): 0.45012\n"
     ]
    }
   ],
   "source": [
    "PE = float(totalPurchases) / 100000.0\n",
    "print(\"P(Purchase):\", PE)"
   ]
  },
  {
   "cell_type": "code",
   "execution_count": 34,
   "id": "81d36e65-0b64-4c9e-b1db-dc86bd4b1ba9",
   "metadata": {},
   "outputs": [
    {
     "name": "stdout",
     "output_type": "stream",
     "text": [
      "P(30's, Purchase)0.04974\n",
      "P(30's)P(Purchase)0.07480544280000001\n"
     ]
    }
   ],
   "source": [
    "print(\"P(30's, Purchase)\" + str(float(purchases[30]) / 100000.0))\n",
    "print(\"P(30's)P(Purchase)\" + str(PE * PF))"
   ]
  },
  {
   "cell_type": "code",
   "execution_count": 35,
   "id": "e77e3cec-159a-45e1-bea3-14eef5832417",
   "metadata": {},
   "outputs": [
    {
     "name": "stdout",
     "output_type": "stream",
     "text": [
      "0.29929598652145134\n"
     ]
    }
   ],
   "source": [
    "print((purchases[30] / 100000.0) / PF)"
   ]
  },
  {
   "cell_type": "code",
   "execution_count": 36,
   "id": "e9d75289-fead-413c-8d33-323842b183b0",
   "metadata": {},
   "outputs": [
    {
     "name": "stdout",
     "output_type": "stream",
     "text": [
      "Atividade:\n",
      "\n",
      "\n",
      "Em seguida, confirme que P(E∣F) é aproximadamente o mesmo que P(E), mostrando que a probabilidade condicional de compra para uma determinada idade não é diferente da probabilidade a priori de compra, independentemente da idade. minha solução\n"
     ]
    }
   ],
   "source": [
    "print(\"Atividade:\")\n",
    "print(\"\\n\")\n",
    "print(\"Em seguida, confirme que P(E∣F) é aproximadamente o mesmo que P(E), mostrando que a probabilidade condicional de compra para uma determinada idade não é diferente da probabilidade a priori de compra, independentemente da idade. minha solução\")"
   ]
  },
  {
   "cell_type": "code",
   "execution_count": 37,
   "id": "74658521-9ec6-4899-895e-5dc3be24ff01",
   "metadata": {},
   "outputs": [],
   "source": [
    "taxa_compra_global = totalPurchases / 100000.0 "
   ]
  },
  {
   "cell_type": "code",
   "execution_count": 38,
   "id": "85d0022a-3943-4965-a112-db9ffd463446",
   "metadata": {},
   "outputs": [],
   "source": [
    "purchases_indep = {idade: int(totals[idade] * taxa_compra_global) for idade in totals}"
   ]
  },
  {
   "cell_type": "code",
   "execution_count": 39,
   "id": "6c99cfcd-08cb-476f-906f-80254ebc98d2",
   "metadata": {},
   "outputs": [
    {
     "name": "stdout",
     "output_type": "stream",
     "text": [
      "P(Purchase | 30s) independente: 0.4500872495336663\n"
     ]
    }
   ],
   "source": [
    "PEF_indep = float(purchases_indep[30]) / float(totals[30])\n",
    "print(\"P(Purchase | 30s) independente:\", PEF_indep)"
   ]
  },
  {
   "cell_type": "code",
   "execution_count": 26,
   "id": "fa757fba-e633-4286-b45d-a63298c5eecf",
   "metadata": {},
   "outputs": [
    {
     "name": "stdout",
     "output_type": "stream",
     "text": [
      "P(Purchase) independente: 0.45012\n"
     ]
    }
   ],
   "source": [
    "print(\"P(Purchase) independente:\", taxa_compra_global)"
   ]
  },
  {
   "cell_type": "code",
   "execution_count": null,
   "id": "9786d1a6-4771-46ba-b5e7-f964583440e0",
   "metadata": {},
   "outputs": [],
   "source": []
  }
 ],
 "metadata": {
  "kernelspec": {
   "display_name": "Python (conda-base)",
   "language": "python",
   "name": "conda-base"
  },
  "language_info": {
   "codemirror_mode": {
    "name": "ipython",
    "version": 3
   },
   "file_extension": ".py",
   "mimetype": "text/x-python",
   "name": "python",
   "nbconvert_exporter": "python",
   "pygments_lexer": "ipython3",
   "version": "3.13.2"
  }
 },
 "nbformat": 4,
 "nbformat_minor": 5
}
