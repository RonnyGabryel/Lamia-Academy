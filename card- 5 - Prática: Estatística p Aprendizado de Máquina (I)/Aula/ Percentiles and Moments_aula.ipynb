{
 "cells": [
  {
   "cell_type": "code",
   "execution_count": 3,
   "id": "35cb7908-c05c-4ad6-b0bc-041535f11658",
   "metadata": {},
   "outputs": [],
   "source": [
    "import numpy as np # Importa a biblioteca NumPy para cálculos numéricos e estatísticos\n",
    "import matplotlib.pyplot as plt # Importa o módulo pyplot da Matplotlib para gerar gráficos"
   ]
  },
  {
   "cell_type": "code",
   "execution_count": 4,
   "id": "814960af-fccb-40b9-ba2c-2c01a75a786e",
   "metadata": {},
   "outputs": [
    {
     "data": {
      "image/png": "[encoded data removed]",
      "text/plain": [
       "<Figure size 640x480 with 1 Axes>"
      ]
     },
     "metadata": {},
     "output_type": "display_data"
    }
   ],
   "source": [
    "# Gera 10.000 valores aleatórios seguindo uma distribuição normal\n",
    "# com média 0 e desvio padrão 0.5\n",
    "vals = np.random.normal(0, 0.5, 10000)\n",
    "plt.hist(vals, 50) # Cria um histograma com 50 intervalos (bins) a partir dos valores gerados\n",
    "plt.show() # Exibe o gráfico na tela"
   ]
  },
  {
   "cell_type": "code",
   "execution_count": 5,
   "id": "3878067d-34d8-4ab3-9bbe-f4ff322931fb",
   "metadata": {},
   "outputs": [
    {
     "data": {
      "text/plain": [
       "np.float64(-0.0023712065455310082)"
      ]
     },
     "execution_count": 5,
     "metadata": {},
     "output_type": "execute_result"
    }
   ],
   "source": [
    "# Calcula o percentil 50 (mediana), que deve estar próximo de 0\n",
    "np.percentile(vals, 50)"
   ]
  },
  {
   "cell_type": "code",
   "execution_count": 7,
   "id": "c7195a2f-809d-4f8a-8898-6d4b2db6d17c",
   "metadata": {},
   "outputs": [
    {
     "data": {
      "text/plain": [
       "np.float64(0.6351577249094134)"
      ]
     },
     "execution_count": 7,
     "metadata": {},
     "output_type": "execute_result"
    }
   ],
   "source": [
    "# Calcula o percentil 90, valor abaixo do qual estão 90% dos dados\n",
    "np.percentile(vals,90)"
   ]
  },
  {
   "cell_type": "code",
   "execution_count": 9,
   "id": "ec0178f0-c15d-4024-a8d6-d084c6b535ed",
   "metadata": {},
   "outputs": [
    {
     "data": {
      "text/plain": [
       "np.float64(-0.43036398539174664)"
      ]
     },
     "execution_count": 9,
     "metadata": {},
     "output_type": "execute_result"
    }
   ],
   "source": [
    "# Calcula o percentil 20, valor abaixo do qual estão 20% dos dados\n",
    "np.percentile(vals, 20)"
   ]
  },
  {
   "cell_type": "code",
   "execution_count": 13,
   "id": "500aabca-38ca-4f36-975b-7d69ecedfb78",
   "metadata": {},
   "outputs": [
    {
     "data": {
      "text/plain": [
       "np.float64(0.2465402906179249)"
      ]
     },
     "execution_count": 13,
     "metadata": {},
     "output_type": "execute_result"
    }
   ],
   "source": [
    "# Calcula a variância da distribuição, que deve estar próxima de 0.25\n",
    "np.var(vals)"
   ]
  },
  {
   "cell_type": "code",
   "execution_count": 14,
   "id": "3b836068-1c9f-462d-a226-2e57d7e4e3e0",
   "metadata": {},
   "outputs": [
    {
     "data": {
      "text/plain": [
       "np.float64(-0.00383783448440455)"
      ]
     },
     "execution_count": 14,
     "metadata": {},
     "output_type": "execute_result"
    }
   ],
   "source": [
    "# Calcula a média da distribuição, que deve estar próxima de 0\n",
    "np.mean(vals)"
   ]
  },
  {
   "cell_type": "code",
   "execution_count": 15,
   "id": "bb41b8d2-ba61-44a3-86ad-08ef819c2f7a",
   "metadata": {},
   "outputs": [
    {
     "data": {
      "text/plain": [
       "np.float64(-0.028269028770949924)"
      ]
     },
     "execution_count": 15,
     "metadata": {},
     "output_type": "execute_result"
    }
   ],
   "source": [
    "import scipy.stats as sp # Importa a função de estatísticas da biblioteca SciPy\n",
    "sp.skew(vals) # Calcula a assimetria (skewness), que indica se a distribuição é simétrica"
   ]
  },
  {
   "cell_type": "code",
   "execution_count": 16,
   "id": "2a2b275e-37d1-4a86-9cf8-b21af2c40429",
   "metadata": {},
   "outputs": [
    {
     "data": {
      "text/plain": [
       "np.float64(-0.0708771298634776)"
      ]
     },
     "execution_count": 16,
     "metadata": {},
     "output_type": "execute_result"
    }
   ],
   "source": [
    "# Calcula a curtose, que mede o grau de achatamento da distribuição\n",
    "sp.kurtosis(vals)"
   ]
  }
 ],
 "metadata": {
  "kernelspec": {
   "display_name": "Python (conda-base)",
   "language": "python",
   "name": "conda-base"
  },
  "language_info": {
   "codemirror_mode": {
    "name": "ipython",
    "version": 3
   },
   "file_extension": ".py",
   "mimetype": "text/x-python",
   "name": "python",
   "nbconvert_exporter": "python",
   "pygments_lexer": "ipython3",
   "version": "3.13.2"
  }
 },
 "nbformat": 4,
 "nbformat_minor": 5
}
