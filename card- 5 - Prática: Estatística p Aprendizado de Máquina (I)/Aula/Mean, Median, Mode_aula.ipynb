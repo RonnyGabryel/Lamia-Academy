{
 "cells": [
  {
   "cell_type": "code",
   "execution_count": 40,
   "id": "742f15e2-4477-494b-8e3f-9f475e2e8c5e",
   "metadata": {},
   "outputs": [],
   "source": [
    "# Importa as bibliotecas numpy e matplotlib e permite que sejam chamada por 'np' e 'plt' respectivamente\n",
    "import numpy as np\n",
    "import matplotlib.pyplot as plt"
   ]
  },
  {
   "cell_type": "code",
   "execution_count": 41,
   "id": "893eed4e-a647-4e4d-ab39-a703e9c418f3",
   "metadata": {},
   "outputs": [],
   "source": [
    "# Cria um array com 10000 valores aleatórios normalmente distribuídos com mediana em 27000 e desvio padrão de 15000 e atribui à variável renda\n",
    "Rendas = np.random.normal(27000, 15000, 10000)"
   ]
  },
  {
   "cell_type": "code",
   "execution_count": 42,
   "id": "5b900bb4-5f92-4378-9f49-49597e5c7f24",
   "metadata": {},
   "outputs": [
    {
     "data": {
      "text/plain": [
       "array([ -485.9285101 , 31285.9883548 , 31304.48319396, ...,\n",
       "       42705.54060926, 34431.98760849, 11692.32325725], shape=(10000,))"
      ]
     },
     "execution_count": 42,
     "metadata": {},
     "output_type": "execute_result"
    }
   ],
   "source": [
    "#Mostra os valores armazenados na variável\n",
    "Rendas"
   ]
  },
  {
   "cell_type": "code",
   "execution_count": 43,
   "id": "d28cb8e2-3c76-465b-840c-6b53c21d142c",
   "metadata": {},
   "outputs": [
    {
     "data": {
      "text/plain": [
       "np.float64(27089.649717322623)"
      ]
     },
     "execution_count": 43,
     "metadata": {},
     "output_type": "execute_result"
    }
   ],
   "source": [
    "#Calcula a média dos valores obtidos\n",
    "np.mean(Rendas)"
   ]
  },
  {
   "cell_type": "code",
   "execution_count": 44,
   "id": "6b06b346-d3df-424b-ab79-d2bdb7c21af8",
   "metadata": {},
   "outputs": [
    {
     "data": {
      "image/png": "[encoded data removed]",
      "text/plain": [
       "<Figure size 640x480 with 1 Axes>"
      ]
     },
     "metadata": {},
     "output_type": "display_data"
    }
   ],
   "source": [
    "#Plota o gráfico do tipo histograma para o conjunto de dados de 'Rendas' divido em 50 classes\n",
    "plt.hist(Rendas, 50)\n",
    "plt.show()"
   ]
  },
  {
   "cell_type": "code",
   "execution_count": 45,
   "id": "e8e07929-5094-4f5e-9f4c-66027a55c531",
   "metadata": {},
   "outputs": [
    {
     "data": {
      "text/plain": [
       "np.float64(27155.43859479689)"
      ]
     },
     "execution_count": 45,
     "metadata": {},
     "output_type": "execute_result"
    }
   ],
   "source": [
    "#Mostra a mediana dos dados\n",
    "np.median(Rendas)"
   ]
  },
  {
   "cell_type": "code",
   "execution_count": 46,
   "id": "8b8e84fa-d5a5-4392-ac75-2816d9da7ada",
   "metadata": {},
   "outputs": [],
   "source": [
    "#Adiciona o valor '1000000000000' no fim do conjunto de dados\n",
    "Rendas = np.append(Rendas,[1000000000000])"
   ]
  },
  {
   "cell_type": "code",
   "execution_count": 47,
   "id": "29031cf8-297b-44a5-b19d-58281c591fd2",
   "metadata": {},
   "outputs": [
    {
     "data": {
      "text/plain": [
       "np.float64(27157.31785485838)"
      ]
     },
     "execution_count": 47,
     "metadata": {},
     "output_type": "execute_result"
    }
   ],
   "source": [
    "#Calcula a média novamente, importante ressaltar que o valor não sofre grandes alterações pois a mediana não é tão afetada por outliers como a média\n",
    "np.median(Rendas)"
   ]
  },
  {
   "cell_type": "code",
   "execution_count": 48,
   "id": "33c86ee1-8ca2-46c4-97ab-044c5b713bd2",
   "metadata": {},
   "outputs": [
    {
     "data": {
      "text/plain": [
       "np.float64(27157.31785485838)"
      ]
     },
     "execution_count": 48,
     "metadata": {},
     "output_type": "execute_result"
    }
   ],
   "source": [
    "#Calcula a média novamente, importante ressaltar que o valor não sofre grandes alterações pois a mediana não é tão afetada por outliers como a média\n",
    "np.median(Rendas)"
   ]
  },
  {
   "cell_type": "code",
   "execution_count": 49,
   "id": "e42ce687-174a-4f15-b132-b269832101f1",
   "metadata": {},
   "outputs": [],
   "source": [
    "#Cria um array de inteiros que vai de 18 a 90 e possui 500 valores\n",
    "Idades = np.random.randint(18, high=90, size=500)"
   ]
  },
  {
   "cell_type": "code",
   "execution_count": 50,
   "id": "e6eaf054-1552-48e7-a244-d2a694d9f248",
   "metadata": {},
   "outputs": [
    {
     "data": {
      "text/plain": [
       "array([78, 64, 50, 33, 85, 56, 27, 38, 34, 62, 29, 19, 27, 55, 28, 29, 30,\n",
       "       84, 33, 89, 18, 55, 62, 47, 77, 68, 66, 27, 27, 37, 52, 66, 37, 79,\n",
       "       70, 60, 78, 21, 42, 54, 72, 63, 32, 70, 73, 27, 28, 52, 65, 22, 84,\n",
       "       51, 42, 58, 56, 70, 57, 88, 23, 66, 39, 58, 54, 22, 35, 73, 81, 87,\n",
       "       32, 20, 84, 76, 51, 50, 25, 22, 79, 30, 55, 23, 43, 23, 29, 40, 89,\n",
       "       72, 72, 79, 64, 43, 78, 88, 73, 64, 78, 38, 25, 68, 24, 82, 52, 30,\n",
       "       88, 30, 37, 40, 35, 24, 34, 27, 50, 34, 69, 32, 69, 31, 34, 59, 86,\n",
       "       33, 40, 63, 50, 34, 25, 87, 79, 72, 89, 30, 83, 82, 41, 65, 19, 78,\n",
       "       72, 70, 42, 24, 61, 35, 87, 35, 33, 43, 77, 86, 73, 36, 19, 38, 62,\n",
       "       62, 33, 73, 75, 74, 27, 45, 42, 51, 36, 68, 69, 62, 68, 22, 65, 51,\n",
       "       51, 61, 86, 47, 71, 79, 61, 52, 84, 46, 73, 64, 71, 44, 49, 70, 43,\n",
       "       89, 32, 64, 58, 49, 41, 39, 66, 46, 23, 68, 72, 58, 63, 79, 27, 70,\n",
       "       55, 46, 82, 58, 73, 87, 52, 27, 38, 84, 68, 57, 57, 27, 46, 66, 43,\n",
       "       48, 61, 41, 80, 64, 18, 50, 75, 48, 59, 34, 83, 87, 34, 27, 22, 37,\n",
       "       51, 70, 75, 78, 79, 81, 22, 68, 51, 75, 51, 62, 74, 24, 87, 48, 40,\n",
       "       42, 79, 60, 71, 19, 88, 67, 43, 78, 50, 58, 88, 84, 55, 66, 81, 20,\n",
       "       22, 67, 83, 21, 73, 52, 21, 75, 79, 44, 24, 22, 72, 47, 86, 34, 72,\n",
       "       78, 58, 86, 34, 19, 54, 69, 86, 53, 80, 28, 76, 64, 46, 79, 34, 83,\n",
       "       75, 57, 39, 49, 40, 62, 84, 84, 49, 69, 24, 58, 77, 47, 24, 75, 61,\n",
       "       66, 24, 56, 82, 28, 88, 25, 81, 60, 73, 87, 48, 31, 87, 75, 54, 23,\n",
       "       51, 55, 66, 53, 71, 84, 54, 21, 62, 64, 85, 21, 32, 35, 68, 24, 76,\n",
       "       89, 62, 50, 83, 42, 67, 76, 54, 42, 63, 21, 44, 28, 36, 81, 46, 48,\n",
       "       41, 81, 80, 61, 54, 30, 70, 72, 18, 84, 74, 68, 43, 70, 78, 30, 33,\n",
       "       57, 65, 75, 62, 44, 21, 60, 71, 82, 25, 85, 29, 50, 66, 29, 85, 18,\n",
       "       35, 75, 69, 42, 65, 63, 55, 76, 57, 24, 22, 26, 79, 29, 60, 58, 51,\n",
       "       67, 55, 44, 35, 45, 81, 61, 85, 70, 58, 46, 25, 35, 52, 76, 21, 50,\n",
       "       72, 37, 42, 80, 85, 23, 85, 25, 30, 21, 52, 26, 20, 23, 72, 46, 48,\n",
       "       84, 51, 50, 26, 23, 84, 56, 76, 39, 40, 56, 18, 65, 78, 73, 19, 39,\n",
       "       61, 22, 83, 81, 35, 40, 76, 62, 41, 84, 53, 69, 33, 86, 88, 28, 25,\n",
       "       22, 62, 82, 44, 88, 68, 63])"
      ]
     },
     "execution_count": 50,
     "metadata": {},
     "output_type": "execute_result"
    }
   ],
   "source": [
    "#Mostra os valores armazenados na variável\n",
    "Idades"
   ]
  },
  {
   "cell_type": "code",
   "execution_count": 51,
   "id": "3beb36b6-8df2-4d0c-8449-603c62ded646",
   "metadata": {},
   "outputs": [],
   "source": [
    "#Importa a função stats do pacote scipy\n",
    "from scipy import stats"
   ]
  },
  {
   "cell_type": "code",
   "execution_count": 39,
   "id": "6b642bc7-70f0-4674-967a-5cfc415564f1",
   "metadata": {},
   "outputs": [
    {
     "data": {
      "text/plain": [
       "ModeResult(mode=np.int64(58), count=np.int64(15))"
      ]
     },
     "execution_count": 39,
     "metadata": {},
     "output_type": "execute_result"
    }
   ],
   "source": [
    "#Exibe o valor mais recorrente no conjunto de dados e a quantidade de vezes que ele apareceu\n",
    "stats.mode(Idades)"
   ]
  }
 ],
 "metadata": {
  "kernelspec": {
   "display_name": "Python (conda-base)",
   "language": "python",
   "name": "conda-base"
  },
  "language_info": {
   "codemirror_mode": {
    "name": "ipython",
    "version": 3
   },
   "file_extension": ".py",
   "mimetype": "text/x-python",
   "name": "python",
   "nbconvert_exporter": "python",
   "pygments_lexer": "ipython3",
   "version": "3.13.2"
  }
 },
 "nbformat": 4,
 "nbformat_minor": 5
}
